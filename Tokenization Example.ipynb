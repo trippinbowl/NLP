{
 "cells": [
  {
   "cell_type": "code",
   "execution_count": 17,
   "id": "1b2cb194-b251-446d-b59a-3ea43f69f5b5",
   "metadata": {},
   "outputs": [],
   "source": [
    "corpus=\"\"\"Hello Welcome, to Dipanjan Das's NPL practice material.\n",
    "Please do study more! to become a NLP expert.\n",
    "\"\"\" "
   ]
  },
  {
   "cell_type": "code",
   "execution_count": 18,
   "id": "67851df8-35d6-4676-9e4c-719974bb0bbc",
   "metadata": {},
   "outputs": [
    {
     "name": "stdout",
     "output_type": "stream",
     "text": [
      "Hello Welcome, to Dipanjan Das's NPL practice material.\n",
      "Please do study more! to become a NLP expert.\n",
      "\n"
     ]
    }
   ],
   "source": [
    "print(corpus)"
   ]
  },
  {
   "cell_type": "code",
   "execution_count": 19,
   "id": "0c2ecb6c-af02-4ce0-9963-382b25aa21b3",
   "metadata": {},
   "outputs": [
    {
     "name": "stderr",
     "output_type": "stream",
     "text": [
      "[nltk_data] Downloading package punkt to C:\\Users\\Arup\n",
      "[nltk_data]     Das\\AppData\\Roaming\\nltk_data...\n",
      "[nltk_data]   Package punkt is already up-to-date!\n"
     ]
    }
   ],
   "source": [
    "## Tokenization\n",
    "# Convert a sentence in paragraphs\n",
    "from nltk.tokenize import sent_tokenize\n",
    "import nltk\n",
    "nltk.download('punkt')\n",
    "\n",
    "from nltk import word_tokenize,sent_tokenize\n"
   ]
  },
  {
   "cell_type": "code",
   "execution_count": 22,
   "id": "56f94ff8-b42f-47ca-9a03-852673f714fa",
   "metadata": {},
   "outputs": [],
   "source": [
    "documents = sent_tokenize(corpus)"
   ]
  },
  {
   "cell_type": "code",
   "execution_count": 23,
   "id": "d6b091be-8cb7-4840-bfa9-307d24324bd6",
   "metadata": {},
   "outputs": [
    {
     "data": {
      "text/plain": [
       "list"
      ]
     },
     "execution_count": 23,
     "metadata": {},
     "output_type": "execute_result"
    }
   ],
   "source": [
    "type(documents)"
   ]
  },
  {
   "cell_type": "code",
   "execution_count": 24,
   "id": "5b9ae293-a7ae-4a3f-954f-1d38cd4526da",
   "metadata": {},
   "outputs": [
    {
     "name": "stdout",
     "output_type": "stream",
     "text": [
      "[\"Hello Welcome, to Dipanjan Das's NPL practice material.\", 'Please do study more!', 'to become a NLP expert.']\n"
     ]
    }
   ],
   "source": [
    "print(documents)\n"
   ]
  },
  {
   "cell_type": "code",
   "execution_count": 27,
   "id": "edd6e549-b0e0-40a0-bd84-a29c1d0753fd",
   "metadata": {},
   "outputs": [
    {
     "name": "stdout",
     "output_type": "stream",
     "text": [
      "Hello Welcome, to Dipanjan Das's NPL practice material.\n",
      "Please do study more!\n",
      "to become a NLP expert.\n"
     ]
    }
   ],
   "source": [
    "for sentence in documents:\n",
    "    print(sentence)"
   ]
  },
  {
   "cell_type": "code",
   "execution_count": null,
   "id": "42f2815e-b440-48ca-b2fb-9f24d446e0d1",
   "metadata": {},
   "outputs": [],
   "source": [
    "## Tokenization\n",
    "# Convert a paragraph into words\n",
    "# Convert a sentence into words"
   ]
  },
  {
   "cell_type": "code",
   "execution_count": 33,
   "id": "907f9220-422a-4636-9e42-f620d931efa9",
   "metadata": {},
   "outputs": [],
   "source": [
    "from nltk.tokenize import word_tokenize"
   ]
  },
  {
   "cell_type": "code",
   "execution_count": 37,
   "id": "1c6d52aa-d69e-497a-936c-6d827792432f",
   "metadata": {},
   "outputs": [
    {
     "data": {
      "text/plain": [
       "['Hello',\n",
       " 'Welcome',\n",
       " ',',\n",
       " 'to',\n",
       " 'Dipanjan',\n",
       " 'Das',\n",
       " \"'s\",\n",
       " 'NPL',\n",
       " 'practice',\n",
       " 'material',\n",
       " '.',\n",
       " 'Please',\n",
       " 'do',\n",
       " 'study',\n",
       " 'more',\n",
       " '!',\n",
       " 'to',\n",
       " 'become',\n",
       " 'a',\n",
       " 'NLP',\n",
       " 'expert',\n",
       " '.']"
      ]
     },
     "execution_count": 37,
     "metadata": {},
     "output_type": "execute_result"
    }
   ],
   "source": [
    "word_tokenize(corpus)"
   ]
  },
  {
   "cell_type": "code",
   "execution_count": 38,
   "id": "23ea5786-c4a7-4bca-94f0-e47ad4919765",
   "metadata": {},
   "outputs": [
    {
     "name": "stdout",
     "output_type": "stream",
     "text": [
      "['Hello', 'Welcome', ',', 'to', 'Dipanjan', 'Das', \"'s\", 'NPL', 'practice', 'material', '.']\n",
      "['Please', 'do', 'study', 'more', '!']\n",
      "['to', 'become', 'a', 'NLP', 'expert', '.']\n"
     ]
    }
   ],
   "source": [
    "for sentence in documents:\n",
    "    print(word_tokenize(sentence))"
   ]
  },
  {
   "cell_type": "code",
   "execution_count": 40,
   "id": "5b01ba06-7a25-4e3a-b593-8c37aa3bc259",
   "metadata": {},
   "outputs": [],
   "source": [
    "from nltk.tokenize import wordpunct_tokenize"
   ]
  },
  {
   "cell_type": "code",
   "execution_count": 41,
   "id": "21fec7f1-b70f-4282-bde3-2ebca3bb4981",
   "metadata": {},
   "outputs": [
    {
     "data": {
      "text/plain": [
       "['Hello',\n",
       " 'Welcome',\n",
       " ',',\n",
       " 'to',\n",
       " 'Dipanjan',\n",
       " 'Das',\n",
       " \"'\",\n",
       " 's',\n",
       " 'NPL',\n",
       " 'practice',\n",
       " 'material',\n",
       " '.',\n",
       " 'Please',\n",
       " 'do',\n",
       " 'study',\n",
       " 'more',\n",
       " '!',\n",
       " 'to',\n",
       " 'become',\n",
       " 'a',\n",
       " 'NLP',\n",
       " 'expert',\n",
       " '.']"
      ]
     },
     "execution_count": 41,
     "metadata": {},
     "output_type": "execute_result"
    }
   ],
   "source": [
    "wordpunct_tokenize(corpus)"
   ]
  },
  {
   "cell_type": "code",
   "execution_count": 42,
   "id": "35fd9440-611e-4813-bd1f-91f7dbf14756",
   "metadata": {},
   "outputs": [
    {
     "data": {
      "text/plain": [
       "['to', 'become', 'a', 'NLP', 'expert', '.']"
      ]
     },
     "execution_count": 42,
     "metadata": {},
     "output_type": "execute_result"
    }
   ],
   "source": [
    "wordpunct_tokenize(sentence)"
   ]
  },
  {
   "cell_type": "code",
   "execution_count": 44,
   "id": "153caf44-6ea5-4a4b-9ce7-c3765d2ed07e",
   "metadata": {},
   "outputs": [],
   "source": [
    "from nltk.tokenize import TreebankWordTokenizer"
   ]
  },
  {
   "cell_type": "code",
   "execution_count": 45,
   "id": "9e6a52eb-036d-421e-87fb-78eb57454d05",
   "metadata": {},
   "outputs": [],
   "source": [
    "tokenizer=TreebankWordTokenizer()"
   ]
  },
  {
   "cell_type": "code",
   "execution_count": 46,
   "id": "752f0789-f12f-48ed-8e97-ba1671ac59a2",
   "metadata": {},
   "outputs": [
    {
     "data": {
      "text/plain": [
       "['Hello',\n",
       " 'Welcome',\n",
       " ',',\n",
       " 'to',\n",
       " 'Dipanjan',\n",
       " 'Das',\n",
       " \"'s\",\n",
       " 'NPL',\n",
       " 'practice',\n",
       " 'material.',\n",
       " 'Please',\n",
       " 'do',\n",
       " 'study',\n",
       " 'more',\n",
       " '!',\n",
       " 'to',\n",
       " 'become',\n",
       " 'a',\n",
       " 'NLP',\n",
       " 'expert',\n",
       " '.']"
      ]
     },
     "execution_count": 46,
     "metadata": {},
     "output_type": "execute_result"
    }
   ],
   "source": [
    "tokenizer.tokenize(corpus)"
   ]
  },
  {
   "cell_type": "code",
   "execution_count": null,
   "id": "90fddcce-de55-475b-a731-f6c87237e345",
   "metadata": {},
   "outputs": [],
   "source": []
  }
 ],
 "metadata": {
  "kernelspec": {
   "display_name": "Python 3 (ipykernel)",
   "language": "python",
   "name": "python3"
  },
  "language_info": {
   "codemirror_mode": {
    "name": "ipython",
    "version": 3
   },
   "file_extension": ".py",
   "mimetype": "text/x-python",
   "name": "python",
   "nbconvert_exporter": "python",
   "pygments_lexer": "ipython3",
   "version": "3.11.7"
  }
 },
 "nbformat": 4,
 "nbformat_minor": 5
}
